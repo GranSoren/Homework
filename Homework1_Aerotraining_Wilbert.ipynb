{
 "cells": [
  {
   "cell_type": "code",
   "execution_count": null,
   "id": "a4255164",
   "metadata": {},
   "outputs": [],
   "source": [
    "n = 1\n",
    "while n<=100:\n",
    "    if n%15==0:\n",
    "        print('FizzBuzz')\n",
    "    elif n%3==0:\n",
    "        print('Fizz')\n",
    "    elif n%5==0:\n",
    "        print('Buzz')\n",
    "    else:\n",
    "        print(n)\n",
    "    n+=1"
   ]
  },
  {
   "cell_type": "markdown",
   "id": "5fafe88d",
   "metadata": {},
   "source": [
    "Secara sederhana, program hanya perlu mengecek nilai apakah n dapat dibagi habis 15 (kelipatan 3 dan 5) atau hasil modulo 0. Jika iya maka akan menampilkan FizzBuzz. Jika tidak, maka akan mengecek kondisi selanjutnya untuk kelipatan 3, kelipatan 5, dan jika tidak ada maka tinggal menampilkan nilai n. Setelah pengecekan selesai, nilai n akan ditambah 1, dan looping kembali melakukan pengecekan hingga n=100."
   ]
  },
  {
   "cell_type": "code",
   "execution_count": null,
   "id": "3d19aa49",
   "metadata": {},
   "outputs": [],
   "source": [
    "s = input(str('Input : '))\n",
    "x = len(s)//2\n",
    "y = True\n",
    "for i in range(x):\n",
    "    if s[i]!=s[-i-1]:\n",
    "        y = False\n",
    "        break\n",
    "if y==True:\n",
    "    print('Output : Yes')\n",
    "else:\n",
    "    print('Output : No')"
   ]
  },
  {
   "cell_type": "markdown",
   "id": "0c7243b8",
   "metadata": {},
   "source": [
    "Setelah meminta input variabel s, akan dicari nilai x yaitu setengah jumlah huruf dalam variabel s dibulatkan ke bawah (jika jumlah ganjil tidak perlu mengecek huruf tengah). Kemudian ada juga variabel y yang secara default diatur sebagai True. Program akan mengecek apakah huruf pertama akan sama dengan huruf terakhir, jika iya maka pengecekan akan tetap berlanjut ke huruf kedua dari depan dan kedua dari belakang, namun jika tidak sama maka variabel y diatur menjadi False dan pemeriksaan dihentikan. Kemudian hasil Output Yes atau No akan bergantung pada variabel y adalah True atau False."
   ]
  }
 ],
 "metadata": {
  "kernelspec": {
   "display_name": "Python 3",
   "language": "python",
   "name": "python3"
  },
  "language_info": {
   "codemirror_mode": {
    "name": "ipython",
    "version": 3
   },
   "file_extension": ".py",
   "mimetype": "text/x-python",
   "name": "python",
   "nbconvert_exporter": "python",
   "pygments_lexer": "ipython3",
   "version": "3.8.8"
  }
 },
 "nbformat": 4,
 "nbformat_minor": 5
}
