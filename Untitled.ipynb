{
 "cells": [
  {
   "cell_type": "code",
   "execution_count": 1,
   "id": "cc4b8445",
   "metadata": {},
   "outputs": [
    {
     "name": "stdout",
     "output_type": "stream",
     "text": [
      "Input n value: 4\n",
      "*\n",
      "**\n",
      "***\n",
      "****\n"
     ]
    }
   ],
   "source": [
    "n = int(input(\"Input n value: \"))\n",
    "i = 1\n",
    "star = '*'\n",
    "while i <= n:\n",
    "    print(star)\n",
    "    i += 1\n",
    "    star += \"*\""
   ]
  },
  {
   "cell_type": "code",
   "execution_count": 4,
   "id": "373280cf",
   "metadata": {},
   "outputs": [
    {
     "name": "stdout",
     "output_type": "stream",
     "text": [
      "Input n value: 5\n",
      "*\n",
      "**\n",
      "***\n",
      "****\n",
      "*****\n"
     ]
    }
   ],
   "source": [
    "n = int(input(\"Input n value: \"))\n",
    "i = 1\n",
    "star = '*'\n",
    "for i in range(n):\n",
    "    print(star)\n",
    "    star += \"*\""
   ]
  },
  {
   "cell_type": "code",
   "execution_count": 5,
   "id": "ffa259cb",
   "metadata": {},
   "outputs": [
    {
     "name": "stdout",
     "output_type": "stream",
     "text": [
      "Input n value: 4\n",
      "0\n",
      "1\n",
      "2\n",
      "3\n"
     ]
    }
   ],
   "source": [
    "n = int(input(\"Input n value: \"))\n",
    "for i in range(n):\n",
    "    print(i)"
   ]
  },
  {
   "cell_type": "code",
   "execution_count": null,
   "id": "451898c7",
   "metadata": {},
   "outputs": [],
   "source": []
  }
 ],
 "metadata": {
  "kernelspec": {
   "display_name": "Python 3",
   "language": "python",
   "name": "python3"
  },
  "language_info": {
   "codemirror_mode": {
    "name": "ipython",
    "version": 3
   },
   "file_extension": ".py",
   "mimetype": "text/x-python",
   "name": "python",
   "nbconvert_exporter": "python",
   "pygments_lexer": "ipython3",
   "version": "3.8.8"
  }
 },
 "nbformat": 4,
 "nbformat_minor": 5
}
