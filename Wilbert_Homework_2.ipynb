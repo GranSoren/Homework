{
 "cells": [
  {
   "cell_type": "markdown",
   "id": "ec8e6471",
   "metadata": {},
   "source": [
    "# Symmetrical crack at a hole in a finite plate calculator"
   ]
  },
  {
   "cell_type": "code",
   "execution_count": 1,
   "id": "3697fab6",
   "metadata": {},
   "outputs": [],
   "source": [
    "import math\n",
    "class crack:\n",
    "    def __init__(self,crack_length,hole_diameter,plate_width,applied_stress):\n",
    "        self.a = crack_length\n",
    "        self.R = 0.5*hole_diameter\n",
    "        self.W = plate_width\n",
    "        self.sigma = applied_stress\n",
    "    def hole_factor(self):\n",
    "        x = (self.a/(self.a+self.R))\n",
    "        self.beta_hole = math.exp(1.21009-2.1114*x+0.92466*x**2)\n",
    "        return self.beta_hole\n",
    "    def width_factor(self):\n",
    "        a_star = self.a+self.R\n",
    "        self.beta_width = math.sqrt(1/math.cos(math.pi*a_star/self.W))\n",
    "        return self.beta_width\n",
    "    def total_factor(self):\n",
    "        beta_total = crack.hole_factor(self)*crack.width_factor(self)\n",
    "        return beta_total\n",
    "    def stress_intensity(self):\n",
    "        K = crack.total_factor(self)*self.sigma*math.sqrt(math.pi*self.a)\n",
    "        return K"
   ]
  },
  {
   "cell_type": "markdown",
   "id": "df6299fa",
   "metadata": {},
   "source": [
    "Class of a crack case is defined with 4 propeties (crack length, hole's diameter, width of the plate, and applied stress)\n",
    "\n",
    "There are several functions inside the class:\n",
    "- `__init__` function defines those 4 properties\n",
    "- `hole_factor` function returns the value of geometry factor (beta) from the effect of the hole\n",
    "- `width_factor` function returns the value of beta from finite boundary condition of the plate\n",
    "- `total_factor` function returns the total value of beta\n",
    "- `stress_intensity` function returns the stress intensity factor from the case"
   ]
  },
  {
   "cell_type": "code",
   "execution_count": 2,
   "id": "184c46b0",
   "metadata": {},
   "outputs": [
    {
     "name": "stdout",
     "output_type": "stream",
     "text": [
      "Please input the crack length (in mm): 1\n",
      "Please input the diameter of the hole (in mm): 20\n",
      "Please input the width of the plate (in mm): 400\n",
      "Please input the applied stress (in MPa): 1\n",
      "\n",
      "Geometry factor from the hole is 2.78929\n",
      "Geometry factor from the finite plate is 1.00187\n",
      "The total geometry factor is 2.7945\n",
      "The stress intensity factor from the case is 4.95313 MPa(mm)^0.5\n",
      "\n",
      "The stress intensity difference from case 1 and case 2 is 2.35942 MPa(mm)^0.5\n"
     ]
    }
   ],
   "source": [
    "a = float(input('Please input the crack length (in mm): '))\n",
    "D = float(input('Please input the diameter of the hole (in mm): '))\n",
    "W = float(input('Please input the width of the plate (in mm): '))\n",
    "Sigma = float(input('Please input the applied stress (in MPa): '))\n",
    "case = crack(a,D,W,Sigma)\n",
    "print('\\nGeometry factor from the hole is {}'.format(round(case.hole_factor(),5)))\n",
    "print('Geometry factor from the finite plate is {}'.format(round(case.width_factor(),5)))\n",
    "print('The total geometry factor is {}'.format(round(case.total_factor(),5)))\n",
    "print('The stress intensity factor from the case is {} MPa(mm)^0.5'.format(round(case.stress_intensity(),5)))\n",
    "\n",
    "case1 = crack(1,20,400,1)\n",
    "case2 = crack(5,20,400,1)\n",
    "K_difference = abs(round(case1.stress_intensity()-case2.stress_intensity(),5))\n",
    "print('\\nThe stress intensity difference from case 1 and case 2 is {} MPa(mm)^0.5'.format(K_difference))\n"
   ]
  },
  {
   "cell_type": "markdown",
   "id": "269eac6c",
   "metadata": {},
   "source": [
    "Cell above shows several implementations of the `crack` class, the `line 1-10` show the statistic data from a crack case.\n",
    "\n",
    "The `line 11-14` show another implementation where the user can directly access statistic data for different crack cases."
   ]
  }
 ],
 "metadata": {
  "kernelspec": {
   "display_name": "Python 3",
   "language": "python",
   "name": "python3"
  },
  "language_info": {
   "codemirror_mode": {
    "name": "ipython",
    "version": 3
   },
   "file_extension": ".py",
   "mimetype": "text/x-python",
   "name": "python",
   "nbconvert_exporter": "python",
   "pygments_lexer": "ipython3",
   "version": "3.8.8"
  }
 },
 "nbformat": 4,
 "nbformat_minor": 5
}
