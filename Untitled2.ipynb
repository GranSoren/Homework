{
 "cells": [
  {
   "cell_type": "code",
   "execution_count": 1,
   "id": "790ba525",
   "metadata": {},
   "outputs": [],
   "source": [
    "class X:\n",
    "    def __init__(self,data_array):\n",
    "        self.data = data_array\n",
    "    def calculate_range(self):\n",
    "        max_data = max(self.data)\n",
    "        min_data = min(self.data)\n",
    "        range_data = max_data - min_data\n",
    "        return range_data"
   ]
  },
  {
   "cell_type": "code",
   "execution_count": 2,
   "id": "d0adc8cf",
   "metadata": {},
   "outputs": [
    {
     "data": {
      "text/plain": [
       "4"
      ]
     },
     "execution_count": 2,
     "metadata": {},
     "output_type": "execute_result"
    }
   ],
   "source": [
    "A = X([1,2,3,4,5])\n",
    "A.calculate_range()"
   ]
  },
  {
   "cell_type": "code",
   "execution_count": null,
   "id": "4acbad47",
   "metadata": {},
   "outputs": [],
   "source": []
  }
 ],
 "metadata": {
  "kernelspec": {
   "display_name": "Python 3",
   "language": "python",
   "name": "python3"
  },
  "language_info": {
   "codemirror_mode": {
    "name": "ipython",
    "version": 3
   },
   "file_extension": ".py",
   "mimetype": "text/x-python",
   "name": "python",
   "nbconvert_exporter": "python",
   "pygments_lexer": "ipython3",
   "version": "3.8.8"
  }
 },
 "nbformat": 4,
 "nbformat_minor": 5
}
